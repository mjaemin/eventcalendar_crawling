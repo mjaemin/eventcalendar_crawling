{
 "cells": [
  {
   "cell_type": "markdown",
   "id": "746c79a0",
   "metadata": {},
   "source": [
    "## 사용법\n",
    "### 1. 공공데이터 xml 크롤링\n",
    "- 공공데이터API (http://apis.data.go.kr)에서 해당 API 접근한다.\n",
    "- 카테고리별로(국경일, 기념일 등) xml import를 한다.\n",
    "- \".//item\"위치에 있는 모든 데이터를 변환한다.\n",
    "    - 도큐먼트 설명\n",
    "        - ..dateKind : {1:국경일, 2:공휴일, 3:기념일, 4:24절기, 5:잡절}\n",
    "            - 단, 중복되는 항목이 존재함\n",
    "        - ..dateName : 특일 이름\n",
    "        - ..isHoliday : 공휴일 유무\n",
    "        - ..locdate : 날짜\n",
    "        - ..seq : 순번\n",
    "        - ..remarks : 비고\n",
    "\n",
    "### 2. 1번의 방법 * 국경일, 공휴일, 기념일, 24절기, 잡절\n",
    "1. 국경일: http://apis.data.go.kr/B090041/openapi/service/SpcdeInfoService/getHoliDeInfo\n",
    "1. 공휴일: http://apis.data.go.kr/B090041/openapi/service/SpcdeInfoService/getRestDeInfo\n",
    "1. 기념일: http://apis.data.go.kr/B090041/openapi/service/SpcdeInfoService/getAnniversaryInfo\n",
    "1. 24절기: http://apis.data.go.kr/B090041/openapi/service/SpcdeInfoService/get24DivisionsInfo\n",
    "1. 잡절: http://apis.data.go.kr/B090041/openapi/service/SpcdeInfoService/getSundryDayInfo\n",
    "\n",
    "### 3. csv export\n",
    "- 한 테이블로 통합하여 csv export"
   ]
  },
  {
   "cell_type": "code",
   "execution_count": 1,
   "id": "a8e9fc79",
   "metadata": {},
   "outputs": [],
   "source": [
    "resultfilename='timex_resolution_20220930.csv'"
   ]
  },
  {
   "cell_type": "code",
   "execution_count": 2,
   "id": "0584ace4",
   "metadata": {},
   "outputs": [],
   "source": [
    "# 국경일, 공휴일, 기념일, 24절기, 잡절 순서\n",
    "urls=[\"http://apis.data.go.kr/B090041/openapi/service/SpcdeInfoService/getHoliDeInfo?ServiceKey=\",\n",
    "      \"http://apis.data.go.kr/B090041/openapi/service/SpcdeInfoService/getRestDeInfo?ServiceKey=\",\n",
    "      \"http://apis.data.go.kr/B090041/openapi/service/SpcdeInfoService/getAnniversaryInfo?ServiceKey=\",\n",
    "      \"http://apis.data.go.kr/B090041/openapi/service/SpcdeInfoService/get24DivisionsInfo?ServiceKey=\",\n",
    "      \"http://apis.data.go.kr/B090041/openapi/service/SpcdeInfoService/getSundryDayInfo?ServiceKey=\"]\n",
    "cols=['국경일','공휴일','기념일','24절기','잡절']\n",
    "key=\"VQuidVYunrTqlOTjmoW0ahJXzyaqCVYlE7tmwYbpmrCjT5kPmsXeMxgmUHU0y9aTgps1Tg%2B6uTLpswjX%2FZ89QA%3D%3D&\"\n",
    "year=\"2022\""
   ]
  },
  {
   "cell_type": "code",
   "execution_count": 3,
   "id": "cae30609",
   "metadata": {},
   "outputs": [
    {
     "ename": "NameError",
     "evalue": "name 'urlopen' is not defined",
     "output_type": "error",
     "traceback": [
      "\u001b[0;31m---------------------------------------------------------------------------\u001b[0m",
      "\u001b[0;31mNameError\u001b[0m                                 Traceback (most recent call last)",
      "Input \u001b[0;32mIn [3]\u001b[0m, in \u001b[0;36m<cell line: 5>\u001b[0;34m()\u001b[0m\n\u001b[1;32m      5\u001b[0m \u001b[38;5;28;01mfor\u001b[39;00m i \u001b[38;5;129;01min\u001b[39;00m \u001b[38;5;28mrange\u001b[39m(\u001b[38;5;28mlen\u001b[39m(urls)):\n\u001b[1;32m      6\u001b[0m     url \u001b[38;5;241m=\u001b[39m urls[i]\u001b[38;5;241m+\u001b[39mkey\u001b[38;5;241m+\u001b[39m\u001b[38;5;124m\"\u001b[39m\u001b[38;5;124msolYear=\u001b[39m\u001b[38;5;124m\"\u001b[39m\u001b[38;5;241m+\u001b[39myear\u001b[38;5;241m+\u001b[39m\u001b[38;5;124m\"\u001b[39m\u001b[38;5;124m&numOfRows=1000\u001b[39m\u001b[38;5;124m\"\u001b[39m\n\u001b[0;32m----> 7\u001b[0m     \u001b[38;5;28;01mwith\u001b[39;00m \u001b[43murlopen\u001b[49m(url) \u001b[38;5;28;01mas\u001b[39;00m f:\n\u001b[1;32m      8\u001b[0m         df \u001b[38;5;241m=\u001b[39m pd\u001b[38;5;241m.\u001b[39mread_xml(f, xpath\u001b[38;5;241m=\u001b[39m\u001b[38;5;124m\"\u001b[39m\u001b[38;5;124m.//item\u001b[39m\u001b[38;5;124m\"\u001b[39m)\n\u001b[1;32m      9\u001b[0m     \u001b[38;5;66;03m#print(df)\u001b[39;00m\n",
      "\u001b[0;31mNameError\u001b[0m: name 'urlopen' is not defined"
     ]
    }
   ],
   "source": [
    "# concat 리스트 선언\n",
    "concat_df=[]\n",
    "#print(concat_df)\n",
    "# lang별로 도큐먼트 추출 및 concat\n",
    "for i in range(len(urls)):\n",
    "    url = urls[i]+key+\"solYear=\"+year+\"&numOfRows=1000\"\n",
    "    with urlopen(url) as f:\n",
    "        df = pd.read_xml(f, xpath=\".//item\")\n",
    "    #print(df)\n",
    "    concat_df.append(df)\n",
    "    #concat_df.append(df)\n",
    "# concat 리스트의 데이터프레임들을 concat 실시\n",
    "test=pd.concat(concat_df, axis=0)\n",
    "test.reset_index(inplace=True, drop=True)\n",
    "test"
   ]
  },
  {
   "cell_type": "code",
   "execution_count": null,
   "id": "289844fc",
   "metadata": {},
   "outputs": [],
   "source": [
    "# 중복항목 삭제\n",
    "test=test[~test.duplicated()]\n",
    "# 결과 출력\n",
    "test.to_csv(resultfilename, index=False)\n",
    "test"
   ]
  }
 ],
 "metadata": {
  "kernelspec": {
   "display_name": "Python 3 (ipykernel)",
   "language": "python",
   "name": "python3"
  },
  "language_info": {
   "codemirror_mode": {
    "name": "ipython",
    "version": 3
   },
   "file_extension": ".py",
   "mimetype": "text/x-python",
   "name": "python",
   "nbconvert_exporter": "python",
   "pygments_lexer": "ipython3",
   "version": "3.9.12"
  }
 },
 "nbformat": 4,
 "nbformat_minor": 5
}
